{
 "cells": [
  {
   "cell_type": "code",
   "execution_count": null,
   "metadata": {},
   "outputs": [],
   "source": [
    "1. Write a Python program to Extract Unique values dictionary values?"
   ]
  },
  {
   "cell_type": "code",
   "execution_count": 21,
   "metadata": {},
   "outputs": [
    {
     "name": "stdout",
     "output_type": "stream",
     "text": [
      "{896, 'pi', 12, 45}\n"
     ]
    }
   ],
   "source": [
    "\n",
    "p={'a':12,'s':45,'lo':896,'i':'pi'}\n",
    "\n",
    "z=list(p.values())\n",
    "print(set(z))"
   ]
  },
  {
   "cell_type": "code",
   "execution_count": null,
   "metadata": {},
   "outputs": [],
   "source": [
    "2. Write a Python program to find the sum of all items in a dictionary?"
   ]
  },
  {
   "cell_type": "code",
   "execution_count": 35,
   "metadata": {},
   "outputs": [
    {
     "name": "stdout",
     "output_type": "stream",
     "text": [
      "sahil is key addition ; 1248 value addition after adding all keys and values separtely\n"
     ]
    }
   ],
   "source": [
    "p={'s':12,'a':45,'h':896,'i':95,'l':200}\n",
    "\n",
    "b=p.items()\n",
    "a=str()\n",
    "n=[]\n",
    "for i in b:\n",
    "    a=''.join((a,i[0]))\n",
    "    n.append(i[1])\n",
    "    continue\n",
    "sum2=0\n",
    "\n",
    "for j in n:\n",
    "    sum2+=j\n",
    "print(a,'is key addition ;',sum2,'value addition after adding all keys and values separtely')"
   ]
  },
  {
   "cell_type": "code",
   "execution_count": null,
   "metadata": {},
   "outputs": [],
   "source": [
    "3. Write a Python program to Merging two Dictionaries?"
   ]
  },
  {
   "cell_type": "code",
   "execution_count": 38,
   "metadata": {},
   "outputs": [
    {
     "name": "stdout",
     "output_type": "stream",
     "text": [
      "{'a': 5, 'b': 6, 'c': 7, 'd': 8} is the merged Dictionary\n"
     ]
    }
   ],
   "source": [
    "a={'a':5,'b':6}\n",
    "b={'c':7,'d':8}\n",
    "a.update(b)\n",
    "print(a,'is the merged Dictionary')"
   ]
  },
  {
   "cell_type": "code",
   "execution_count": null,
   "metadata": {},
   "outputs": [],
   "source": [
    "4. Write a Python program to convert key-values list to flat dictionary?"
   ]
  },
  {
   "cell_type": "code",
   "execution_count": 45,
   "metadata": {},
   "outputs": [
    {
     "name": "stdout",
     "output_type": "stream",
     "text": [
      "{'a': 1, 'b': 2, 'c': 3} is the flat dictionary\n"
     ]
    }
   ],
   "source": [
    "a={'letters':['a','b','c'],'numbers':[1,2,3]}\n",
    "\n",
    "z=dict(zip(a['letters'],a['numbers']))\n",
    "print(z,'is the flat dictionary')"
   ]
  },
  {
   "cell_type": "code",
   "execution_count": null,
   "metadata": {},
   "outputs": [],
   "source": [
    "5. Write a Python program to insertion at the beginning in OrderedDict?"
   ]
  },
  {
   "cell_type": "code",
   "execution_count": 63,
   "metadata": {},
   "outputs": [
    {
     "name": "stdout",
     "output_type": "stream",
     "text": [
      "Orginal dict is {'a': 5, 'b': 6}\n",
      "Dict to be inserted at beginning is   {'c': 7}\n",
      "OrderedDict([('c', 7), ('a', 5), ('b', 6)])\n"
     ]
    }
   ],
   "source": [
    "from collections import OrderedDict\n",
    "\n",
    "dict1={'a':5,'b':6}\n",
    "print('Orginal dict is',dict1)\n",
    "\n",
    "newordereddict=OrderedDict(dict1)\n",
    "c={'c':7}\n",
    "print('Dict to be inserted at beginning is  ',c)\n",
    "newordereddict.update(c)\n",
    "newordereddict.move_to_end('c',last=False)\n",
    "print(newordereddict)"
   ]
  },
  {
   "cell_type": "code",
   "execution_count": null,
   "metadata": {},
   "outputs": [],
   "source": [
    "7. Write a Python program to sort Python Dictionaries by Key or Value?"
   ]
  },
  {
   "cell_type": "code",
   "execution_count": 93,
   "metadata": {},
   "outputs": [
    {
     "name": "stdout",
     "output_type": "stream",
     "text": [
      "Enter 0 for sort by keys and 1 for sort by values0\n",
      "{'a': 10, 'b': 12, 'c': 11} sorted by keys\n"
     ]
    }
   ],
   "source": [
    "\n",
    "dict1={'a':10,'c':11,'b':12}\n",
    "a=int(input('Enter 0 for sort by keys and 1 for sort by values'))\n",
    "sorted_values=sorted(dict1.values())\n",
    "sorted_keys=sorted(dict1.keys())\n",
    "emptydict={}\n",
    "if a==0:\n",
    "    b='sorted by keys'\n",
    "    for i in sorted_keys:\n",
    "        emptydict[i]=dict1[i]\n",
    "elif a==1:\n",
    "    b='sorted by values'\n",
    "    for i in sorted_values:\n",
    "        for v,i in dict1.items():\n",
    "            emptydict[v]=i\n",
    "            continue\n",
    "print(emptydict,b)        \n",
    "        "
   ]
  },
  {
   "cell_type": "code",
   "execution_count": null,
   "metadata": {},
   "outputs": [],
   "source": []
  }
 ],
 "metadata": {
  "kernelspec": {
   "display_name": "Python 3",
   "language": "python",
   "name": "python3"
  },
  "language_info": {
   "codemirror_mode": {
    "name": "ipython",
    "version": 3
   },
   "file_extension": ".py",
   "mimetype": "text/x-python",
   "name": "python",
   "nbconvert_exporter": "python",
   "pygments_lexer": "ipython3",
   "version": "3.8.3"
  }
 },
 "nbformat": 4,
 "nbformat_minor": 4
}
